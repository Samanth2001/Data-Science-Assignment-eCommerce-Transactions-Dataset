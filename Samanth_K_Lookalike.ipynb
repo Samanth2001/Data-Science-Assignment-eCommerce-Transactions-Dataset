{
 "cells": [
  {
   "cell_type": "markdown",
   "metadata": {},
   "source": [
    "Task 2: Lookalike Model "
   ]
  },
  {
   "cell_type": "code",
   "execution_count": 1,
   "metadata": {},
   "outputs": [],
   "source": [
    "import pandas as pd\n",
    "import matplotlib.pyplot as plt\n",
    "import seaborn as sns\n",
    "\n",
    "# Load datasets\n",
    "customers = pd.read_csv(\"D:/Zeotap/Customers.csv\")\n",
    "products = pd.read_csv(\"D:/Zeotap/Products.csv\")\n",
    "transactions = pd.read_csv(\"D:/Zeotap/Transactions.csv\")"
   ]
  },
  {
   "cell_type": "code",
   "execution_count": 2,
   "metadata": {},
   "outputs": [
    {
     "name": "stdout",
     "output_type": "stream",
     "text": [
      "Lookalike saved to Lookalike.csv.\n"
     ]
    }
   ],
   "source": [
    "import pandas as pd\n",
    "from sklearn.metrics.pairwise import cosine_similarity\n",
    "from sklearn.preprocessing import StandardScaler\n",
    "\n",
    "# Merge datasets for analysis\n",
    "merged_data = transactions.merge(customers, on=\"CustomerID\").merge(products, on=\"ProductID\")\n",
    "\n",
    "# Preprocess data: Create a customer-product matrix\n",
    "customer_product_matrix = merged_data.pivot_table(\n",
    "    index=\"CustomerID\", columns=\"ProductID\", values=\"TotalValue\", aggfunc=\"sum\", fill_value=0\n",
    ")\n",
    "\n",
    "# Normalize the data for similarity calculations\n",
    "scaler = StandardScaler()\n",
    "normalized_matrix = scaler.fit_transform(customer_product_matrix)\n",
    "\n",
    "# Compute cosine similarity\n",
    "similarity_matrix = cosine_similarity(normalized_matrix)\n",
    "similarity_df = pd.DataFrame(\n",
    "    similarity_matrix, index=customer_product_matrix.index, columns=customer_product_matrix.index\n",
    ")\n",
    "\n",
    "# Generate Lookalike recommendations for the first 20 customers\n",
    "lookalikes = {}\n",
    "for customer in customers[\"CustomerID\"][:20]:  # First 20 customers\n",
    "    if customer in similarity_df.index:\n",
    "        # Get top 3 similar customers (excluding the customer itself)\n",
    "        similar_customers = (\n",
    "            similarity_df.loc[customer]\n",
    "            .sort_values(ascending=False)\n",
    "            .iloc[1:4]  # Exclude the customer itself (highest similarity)\n",
    "        )\n",
    "        lookalikes[customer] = list(zip(similar_customers.index, similar_customers.values))\n",
    "\n",
    "# Save the Lookalike recommendations to \"Lookalike.csv\"\n",
    "lookalike_data = [\n",
    "    {\"cust_id\": customer, \"lookalikes\": lookalikes[customer]} for customer in lookalikes\n",
    "]\n",
    "lookalike_df = pd.DataFrame(lookalike_data)\n",
    "lookalike_df.to_csv(\"Lookalike.csv\", index=False)\n",
    "\n",
    "print(\"Lookalike saved to Lookalike.csv.\")"
   ]
  }
 ],
 "metadata": {
  "kernelspec": {
   "display_name": "base",
   "language": "python",
   "name": "python3"
  },
  "language_info": {
   "codemirror_mode": {
    "name": "ipython",
    "version": 3
   },
   "file_extension": ".py",
   "mimetype": "text/x-python",
   "name": "python",
   "nbconvert_exporter": "python",
   "pygments_lexer": "ipython3",
   "version": "3.12.7"
  }
 },
 "nbformat": 4,
 "nbformat_minor": 2
}
